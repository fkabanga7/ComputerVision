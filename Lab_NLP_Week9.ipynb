{
  "nbformat": 4,
  "nbformat_minor": 0,
  "metadata": {
    "kernelspec": {
      "display_name": "Python 3",
      "language": "python",
      "name": "python3"
    },
    "language_info": {
      "codemirror_mode": {
        "name": "ipython",
        "version": 3
      },
      "file_extension": ".py",
      "mimetype": "text/x-python",
      "name": "python",
      "nbconvert_exporter": "python",
      "pygments_lexer": "ipython3",
      "version": "3.7.0"
    },
    "colab": {
      "provenance": [],
      "toc_visible": true,
      "include_colab_link": true
    }
  },
  "cells": [
    {
      "cell_type": "markdown",
      "metadata": {
        "id": "view-in-github",
        "colab_type": "text"
      },
      "source": [
        "<a href=\"https://colab.research.google.com/github/fkabanga7/ComputerVision/blob/main/Lab_NLP_Week9.ipynb\" target=\"_parent\"><img src=\"https://colab.research.google.com/assets/colab-badge.svg\" alt=\"Open In Colab\"/></a>"
      ]
    },
    {
      "cell_type": "markdown",
      "metadata": {
        "id": "0rz0poNLMX8S"
      },
      "source": [
        "# Lab - NLP Week 9\n",
        "\n",
        "## Lab Summary:\n",
        "\n",
        "In this lab we will be discussing about Recurrent Neural Networks and LSTMs.\n",
        "## Lab Goal:\n",
        "Upon completion of this lab, the student should have knowledge about:\n",
        "<ul>\n",
        "    <li> recurrent neural networks and lstms </li>\n",
        "    \n",
        "</ul>\n",
        "\n",
        "\n",
        "## Time Requried:\n",
        "This lab should take 1.5 hours to complete for those unfamiliar with the tools.\n",
        "Hint: The lab flow is already prepared for you, just read through the links and try implementing them. Don't try to have it all figured out before starting.\n",
        "\n",
        "## Lab Preparation:\n",
        "<ul>\n",
        "    <li> Review Lecture for Week 8</li>\n",
        "</ul>\n",
        "\n",
        "## Hardware Needed:\n",
        "Any computer with access to the internet and web browser\n",
        "\n",
        "\n",
        "\n",
        "## Import Packages and Classes (Initial)\n",
        "\n",
        "In this lab we will be using the following libraries:\n",
        "<ol>\n",
        "    <li> NLTK </li>\n",
        "    <li> Pandas </li>\n",
        "    <li> Matplotlib </li>\n",
        "    <li> Keras </li>\n",
        "</ol>\n",
        "\n",
        "\n",
        "<b>Matplotlib</b> Matplotlib is a comprehensive library for creating static, animated, and interactive visualizations in Python. It is completely free and open source.\n",
        "\n",
        "![Image](https://miro.medium.com/max/1050/1*EsqDYFK-IzGEAm4FyZP0wQ.jpeg)\n",
        "\n",
        "More here: https://matplotlib.org/stable/index.\n",
        "\n",
        "<b>Pandas</b> is a fast, powerful, flexible and easy to use open source data analysis and manipulation tool, built on top of the Python programming language.\n",
        "\n",
        "![Image](https://miro.medium.com/max/819/1*Dss7A8Z-M4x8LD9ccgw7pQ.png)\n",
        "\n",
        "More here: https://pandas.pydata.org/\n",
        "\n",
        "<b>Gensim</b> supports a variety of other NLP tasks such as:\n",
        "- converting words to vectors (word2vec),\n",
        "- document to vectors (doc2vec),\n",
        "- finding text similarity, and text summarization\n",
        "\n",
        "![Gensim](https://repository-images.githubusercontent.com/1349775/202c4680-8f7c-11e9-91c6-745fdcbeffe8)\n",
        "\n",
        "More about Gensim here:\n",
        "https://pypi.org/project/gensim/\n",
        "\n",
        "<b>Keras</b> is an open source library that provides a lot of functionalities for designing neural networks.\n",
        "\n",
        "![Keras](https://keras.io/img/logo.png)\n",
        "\n",
        "More about Keras here: https://keras.io/"
      ]
    },
    {
      "cell_type": "markdown",
      "metadata": {
        "id": "VDuW59Uq8G7r"
      },
      "source": [
        "#Neural Networks\n",
        "\n",
        "Neural networks are multi-layer networks of neuronsthat we use to classify things, make predictions, etc. Below is the diagram of a simple neural network with one input layer, one output layer and one hidden layers of neuron.\n",
        "\n",
        "![Image](https://ars.els-cdn.com/content/image/3-s2.0-B9780128115299000017-f01-07-9780128115299.jpg)\n",
        "\n",
        "Now, we will design and view a simple neural network using Keras.\n",
        "\n",
        "Keras is an open-source software library that provides a Python interface for artificial neural networks.\n",
        "\n",
        "Now, the first thing is the dataset. We would use the scikit learn library to create a dataset for ourselves. The dataset would have 10 columns and 2 target classes. So, we would be training our classifier to learn to distinguish between 2 classes."
      ]
    },
    {
      "cell_type": "markdown",
      "metadata": {
        "id": "r3MPvxrCwiop"
      },
      "source": [
        "#Recurrent Neural Networks\n",
        "\n",
        "- RNNs are a powerful and robust type of neural network with an internal memory\n",
        "\n",
        "- RNN’s can remember important things about the input, which allows them to precisely predict what’s coming next\n",
        "\n",
        "- They’re often preferred for sequential data like speech, text, and so on\n",
        "\n",
        "![Image](https://i1.wp.com/dataaspirant.com/wp-content/uploads/2020/11/3-Recurrent-Neural-Network.png?resize=626%2C463&ssl=1)\n",
        "\n",
        "![Image](https://nerdthecoder.files.wordpress.com/2019/02/731df-0mrhhgabskajpbt21.png)\n"
      ]
    },
    {
      "cell_type": "markdown",
      "metadata": {
        "id": "LyeG5824-K40"
      },
      "source": [
        "#Types of RNN\n",
        "\n",
        "![Image](https://victorzhou.com/static/2a37bd4e9b12bcc19e045eaf22fea4e5/7e3cb/rnns.webp)"
      ]
    },
    {
      "cell_type": "markdown",
      "metadata": {
        "id": "tPOwwwNp-sTA"
      },
      "source": [
        "#Task\n",
        "\n",
        "For each of the following application, which type of RNN should be used?\n",
        "\n",
        "- Sentiment Classification(You take a particular sentence as input and output the sentiment: positive, negative or neutral)\n",
        "\n",
        "- Machine translation (You take in a sentence in a particular language and output a translated sentence in the desired language)"
      ]
    },
    {
      "cell_type": "markdown",
      "metadata": {
        "id": "l3pRwfl6_RNL"
      },
      "source": [
        "#Answers\n",
        "\n",
        "For each of the following application, which type of RNN should be used?\n",
        "\n",
        "- Sentiment Classification(You take a particular sentence as input and output the sentiment: positive, negative or neutral)\n",
        "\n",
        "<b>Answer</b>: Many to one\n",
        "\n",
        "- Machine translation (You take in a sentence in a particular language and output a translated sentence in the desired language)\n",
        "\n",
        "<b>Answer</b>: Many to many\n"
      ]
    },
    {
      "cell_type": "markdown",
      "metadata": {
        "id": "tzh1gmHTzx6D"
      },
      "source": [
        "#Sequential Model Keras\n",
        "\n",
        "- There are two ways to build Keras models: sequential and functional.\n",
        "- The sequential API allows you to create models layer-by-layer for most problems.\n",
        "\n",
        "- More here: https://machinelearningmastery.com/keras-functional-api-deep-learning/"
      ]
    },
    {
      "cell_type": "code",
      "metadata": {
        "id": "e2dve71g2L85"
      },
      "source": [
        "#libraries\n",
        "import numpy as np\n",
        "import tensorflow as tf\n",
        "from tensorflow import keras\n",
        "from tensorflow.keras import layers"
      ],
      "execution_count": null,
      "outputs": []
    },
    {
      "cell_type": "code",
      "metadata": {
        "id": "YbxaY0NEhonz"
      },
      "source": [
        "#Some useful built in RNN layers in Keras\n",
        "#check out: https://www.tensorflow.org/api_docs/python/tf/keras/layers/SimpleRNN\n",
        "\n",
        "#define a sequential model\n",
        "model = keras.Sequential()\n",
        "\n",
        "# Embedding layer\n",
        "# input vocab defines the size of the vocabulary: the maximum number of words in the vocabulary\n",
        "# output_dim defines the size of the output vector or the dimensions of the vector.\n",
        "model.add(layers.Embedding(input_dim=1000, output_dim=64))\n",
        "\n",
        "# To add LSTM layer: use layers.LSTM and to define number of units pass an integer.\n",
        "model.add(layers.LSTM(128))\n",
        "\n",
        "# layers.Dense(x) adds dense layer with x units.\n",
        "model.add(layers.Dense(10))\n"
      ],
      "execution_count": null,
      "outputs": []
    },
    {
      "cell_type": "markdown",
      "metadata": {
        "id": "AwhWuT221eEy"
      },
      "source": [
        "#Task\n",
        "\n",
        "- Define a sequential model\n",
        "\n",
        "- add an embedding layer that has a max vocabulary size of 2048 words and outputs a vector of dimension 256\n",
        "\n",
        "- add an LSTM layer with 192 units\n",
        "\n",
        "- finally add a dense layer with 2 units\n",
        "\n",
        "- also display a summary of your model"
      ]
    },
    {
      "cell_type": "code",
      "metadata": {
        "id": "SaGBPbvn15qR",
        "outputId": "4bd9f1b5-8768-4ed3-c6ae-97f8f431ef2d",
        "colab": {
          "base_uri": "https://localhost:8080/",
          "height": 221
        }
      },
      "source": [
        "#your code here\n",
        "model = keras.Sequential()\n",
        "model.add(layers.Embedding(input_dim=2048, output_dim=256))\n",
        "model.add(layers.LSTM(192))\n",
        "model.add(layers.Dense(2))\n",
        "model.summary()"
      ],
      "execution_count": 1,
      "outputs": [
        {
          "output_type": "error",
          "ename": "NameError",
          "evalue": "name 'keras' is not defined",
          "traceback": [
            "\u001b[0;31m---------------------------------------------------------------------------\u001b[0m",
            "\u001b[0;31mNameError\u001b[0m                                 Traceback (most recent call last)",
            "\u001b[0;32m<ipython-input-1-d71a6c4889ed>\u001b[0m in \u001b[0;36m<cell line: 0>\u001b[0;34m()\u001b[0m\n\u001b[1;32m      1\u001b[0m \u001b[0;31m#your code here\u001b[0m\u001b[0;34m\u001b[0m\u001b[0;34m\u001b[0m\u001b[0m\n\u001b[0;32m----> 2\u001b[0;31m \u001b[0mmodel\u001b[0m \u001b[0;34m=\u001b[0m \u001b[0mkeras\u001b[0m\u001b[0;34m.\u001b[0m\u001b[0mSequential\u001b[0m\u001b[0;34m(\u001b[0m\u001b[0;34m)\u001b[0m\u001b[0;34m\u001b[0m\u001b[0;34m\u001b[0m\u001b[0m\n\u001b[0m\u001b[1;32m      3\u001b[0m \u001b[0mmodel\u001b[0m\u001b[0;34m.\u001b[0m\u001b[0madd\u001b[0m\u001b[0;34m(\u001b[0m\u001b[0mlayers\u001b[0m\u001b[0;34m.\u001b[0m\u001b[0mEmbedding\u001b[0m\u001b[0;34m(\u001b[0m\u001b[0minput_dim\u001b[0m\u001b[0;34m=\u001b[0m\u001b[0;36m2048\u001b[0m\u001b[0;34m,\u001b[0m \u001b[0moutput_dim\u001b[0m\u001b[0;34m=\u001b[0m\u001b[0;36m256\u001b[0m\u001b[0;34m)\u001b[0m\u001b[0;34m)\u001b[0m\u001b[0;34m\u001b[0m\u001b[0;34m\u001b[0m\u001b[0m\n\u001b[1;32m      4\u001b[0m \u001b[0mmodel\u001b[0m\u001b[0;34m.\u001b[0m\u001b[0madd\u001b[0m\u001b[0;34m(\u001b[0m\u001b[0mlayers\u001b[0m\u001b[0;34m.\u001b[0m\u001b[0mLSTM\u001b[0m\u001b[0;34m(\u001b[0m\u001b[0;36m192\u001b[0m\u001b[0;34m)\u001b[0m\u001b[0;34m)\u001b[0m\u001b[0;34m\u001b[0m\u001b[0;34m\u001b[0m\u001b[0m\n\u001b[1;32m      5\u001b[0m \u001b[0mmodel\u001b[0m\u001b[0;34m.\u001b[0m\u001b[0madd\u001b[0m\u001b[0;34m(\u001b[0m\u001b[0mlayers\u001b[0m\u001b[0;34m.\u001b[0m\u001b[0mDense\u001b[0m\u001b[0;34m(\u001b[0m\u001b[0;36m2\u001b[0m\u001b[0;34m)\u001b[0m\u001b[0;34m)\u001b[0m\u001b[0;34m\u001b[0m\u001b[0;34m\u001b[0m\u001b[0m\n",
            "\u001b[0;31mNameError\u001b[0m: name 'keras' is not defined"
          ]
        }
      ]
    },
    {
      "cell_type": "markdown",
      "metadata": {
        "id": "iA_nrsQX3CHi"
      },
      "source": [
        "\n",
        "- What are the total number of parameters in your model?\n",
        "\n",
        "- How many of those parameters are non-trainable?\n"
      ]
    },
    {
      "cell_type": "markdown",
      "metadata": {
        "id": "Ef1fbG3O9LEB"
      },
      "source": [
        "#Activation functions\n",
        "\n",
        "- Helps the artificial neural network learn complex patterns in the data\n",
        "\n",
        "- input into the activation function is W*x + b where W is the weights of the cell and the x is the inputs and then there is the bias b added to that. This value if not restricted to a certain limit can go very high in magnitude\n",
        "\n",
        "- ability to add non-linearity into a neural network.\n",
        "\n",
        "![Activation Function](https://miro.medium.com/max/1200/1*ZafDv3VUm60Eh10OeJu1vw.png)\n",
        "\n",
        "![Activation Function](http://rasbt.github.io/mlxtend/user_guide/general_concepts/activation-functions_files/activation-functions.png)\n",
        "\n",
        "Also see: https://www.youtube.com/watch?v=SXrXUqDjICA"
      ]
    },
    {
      "cell_type": "markdown",
      "metadata": {
        "id": "-toPGXRFBOFk"
      },
      "source": [
        "#Task\n"
      ]
    },
    {
      "cell_type": "code",
      "metadata": {
        "id": "WpsqiZqR_u6L"
      },
      "source": [
        "# Importing the Keras libraries and packages\n",
        "import keras\n",
        "from keras.models import Sequential\n",
        "from keras.layers import Dense\n",
        "from keras.utils.vis_utils import plot_model\n",
        "from keras import Sequential\n",
        "from keras.layers import SimpleRNN, Dense, LSTM"
      ],
      "execution_count": null,
      "outputs": []
    },
    {
      "cell_type": "markdown",
      "metadata": {
        "id": "zg4Fn2IW7WvF"
      },
      "source": [
        "We have given you the image of a model and its layers. The code is partially made for you. Your task is to fill in the blanks in the code block to create an exact same model."
      ]
    },
    {
      "cell_type": "code",
      "metadata": {
        "colab": {
          "base_uri": "https://localhost:8080/",
          "height": 754
        },
        "id": "DjvFeMKDBVO1",
        "outputId": "46ec12c3-85fe-4b49-93dc-97c3e7faaedc"
      },
      "source": [
        "# The model you need to make"
      ],
      "execution_count": null,
      "outputs": [
        {
          "output_type": "execute_result",
          "data": {
            "image/png": "[encoded data removed]",
            "text/plain": [
              "<IPython.core.display.Image object>"
            ]
          },
          "metadata": {
            "tags": []
          },
          "execution_count": 16
        }
      ]
    },
    {
      "cell_type": "code",
      "metadata": {
        "id": "Vqbzi4qRBXtM"
      },
      "source": [
        "# The model you need to make\n",
        "#fill in the parameters so that you can create the model above\n",
        "model = _____ #initialize sequential model\n",
        "model.add(LSTM(____, input_shape=(70,1), return_sequences=True)) #LSTM layer with 126 neurons\n",
        "model.add(LSTM(____, return_sequences=True)) #LSTM layer with 63 neurons\n",
        "model.add(LSTM(____)) #LSTM layer with 63 neurons\n",
        "model.add(Dense(____,activation='relu')) #Dense layer with 26 neurons\n",
        "model.add(Dense(18,activation='____')) #Dense layer with 18 neurons, relu activation\n",
        "model.add(Dense(____,activation='____')) #Dense output layer with 1 neuron, relu activation\n",
        "plot_model(model, to_file='model_plot.png', show_shapes=True, show_layer_names=True)"
      ],
      "execution_count": null,
      "outputs": []
    },
    {
      "cell_type": "code",
      "metadata": {
        "id": "V_eCpAdB8UFC"
      },
      "source": [
        "# Answer for above\n",
        "model = Sequential()\n",
        "model.add(LSTM(126, input_shape=(70,1), return_sequences=True))\n",
        "model.add(LSTM(63, return_sequences=True))\n",
        "model.add(LSTM(63))\n",
        "model.add(Dense(26,activation='relu'))\n",
        "model.add(Dense(18,activation='relu'))\n",
        "model.add(Dense(1,activation='relu'))\n",
        "plot_model(model, to_file='model_plot.png', show_shapes=True, show_layer_names=True)"
      ],
      "execution_count": null,
      "outputs": []
    },
    {
      "cell_type": "markdown",
      "metadata": {
        "id": "hf77frX8_u6j"
      },
      "source": [
        "#Bidirectional RNN\n",
        "\n",
        "Bidirectional RNNs are collections of 2 independent RNNS.\n",
        "\n",
        "Read the basic implementation of bidirectional RNN here and design the following network.\n",
        "\n",
        "![Image](https://miro.medium.com/max/1050/1*6QnPUSv_t9BY9Fv8_aLb-Q.png)\n",
        "\n",
        "#Task\n",
        "\n",
        "- Design a sequential model that takes an input vector of shape (10,20)\n",
        "- Add a bidirectional LSTM layer of 25 neurons\n",
        "- Add another bidirectional LSTM layer of 15 neurons\n",
        "- Add a dense layer of 10 neurons"
      ]
    },
    {
      "cell_type": "code",
      "metadata": {
        "id": "18ZyiLOrBcT2"
      },
      "source": [
        "#your code here\n",
        "import numpy as np\n",
        "from tensorflow import keras\n",
        "from tensorflow.keras import layers\n",
        "from keras.layers import Bidirectional\n",
        "\n",
        "model = Sequential()\n",
        "model.add(Bidirectional(LSTM(25, return_sequences=True), input_shape=(10, 20)))\n",
        "model.add(Bidirectional(LSTM(15)))\n",
        "model.add(Dense(10))"
      ],
      "execution_count": null,
      "outputs": []
    }
  ]
}